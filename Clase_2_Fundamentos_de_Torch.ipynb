{
  "nbformat": 4,
  "nbformat_minor": 0,
  "metadata": {
    "colab": {
      "provenance": []
    },
    "kernelspec": {
      "name": "python3",
      "display_name": "Python 3"
    },
    "language_info": {
      "name": "python"
    }
  },
  "cells": [
    {
      "cell_type": "code",
      "execution_count": 1,
      "metadata": {
        "id": "lu3Loocw4B8H"
      },
      "outputs": [],
      "source": [
        "import torch"
      ]
    },
    {
      "cell_type": "code",
      "source": [
        "scalar = torch.tensor(3.14159)\n",
        "vector = torch.tensor([1, 2, 3])\n",
        "matrix = torch.ones((2, 3), dtype=torch.float)\n",
        "tensor = torch.randn((2, 3, 4), dtype=torch.float)\n",
        "print(scalar)\n",
        "print(vector)\n",
        "print(matrix)\n",
        "print(tensor)"
      ],
      "metadata": {
        "colab": {
          "base_uri": "https://localhost:8080/"
        },
        "id": "06HTPE_h4H9U",
        "outputId": "29b2a065-f31e-4f80-c998-ae219a244e10"
      },
      "execution_count": 3,
      "outputs": [
        {
          "output_type": "stream",
          "name": "stdout",
          "text": [
            "tensor(3.1416)\n",
            "tensor([1, 2, 3])\n",
            "tensor([[0., 0., 0.],\n",
            "        [0., 0., 0.]])\n",
            "tensor([[[-0.4418, -1.8217,  0.1915,  0.7931],\n",
            "         [ 1.6653,  0.8416, -0.9112, -0.8525],\n",
            "         [-0.0078,  1.6519, -1.2868, -1.2237]],\n",
            "\n",
            "        [[ 2.3034, -0.7036,  0.5686, -0.0368],\n",
            "         [ 0.3417,  0.2754,  0.4732,  0.9154],\n",
            "         [-1.5877, -0.7069,  0.7879,  1.9167]]])\n"
          ]
        }
      ]
    },
    {
      "cell_type": "code",
      "source": [
        "tensor"
      ],
      "metadata": {
        "colab": {
          "base_uri": "https://localhost:8080/"
        },
        "id": "2-qhtLQA4JU2",
        "outputId": "8f762f7f-cad3-4ec6-d34f-722b21fb268d"
      },
      "execution_count": null,
      "outputs": [
        {
          "output_type": "execute_result",
          "data": {
            "text/plain": [
              "tensor([[[ 0.4980, -0.2235,  0.5677,  1.5343],\n",
              "         [-0.9509, -0.7612, -0.5748, -1.4758],\n",
              "         [-0.7141, -0.2993,  1.8596,  0.2059]],\n",
              "\n",
              "        [[ 1.1437, -0.1948,  2.0503,  0.4324],\n",
              "         [ 0.5184, -1.1625, -1.5825,  2.3911],\n",
              "         [-1.0133,  0.8197,  0.5835,  0.6850]]])"
            ]
          },
          "metadata": {},
          "execution_count": 5
        }
      ]
    },
    {
      "cell_type": "code",
      "source": [
        "print(tensor.size(), tensor.shape)"
      ],
      "metadata": {
        "colab": {
          "base_uri": "https://localhost:8080/"
        },
        "id": "TTFxIfEd4VP_",
        "outputId": "239e92a1-e1f5-47b3-def9-a4eb9dc0bd9d"
      },
      "execution_count": 4,
      "outputs": [
        {
          "output_type": "stream",
          "name": "stdout",
          "text": [
            "torch.Size([2, 3, 4]) torch.Size([2, 3, 4])\n"
          ]
        }
      ]
    },
    {
      "cell_type": "code",
      "source": [
        "print(scalar.size(), scalar.shape)"
      ],
      "metadata": {
        "colab": {
          "base_uri": "https://localhost:8080/"
        },
        "id": "7QzgmUgl4me9",
        "outputId": "470b88d5-b735-4658-8386-6ea63edbe7a1"
      },
      "execution_count": 5,
      "outputs": [
        {
          "output_type": "stream",
          "name": "stdout",
          "text": [
            "torch.Size([]) torch.Size([])\n"
          ]
        }
      ]
    },
    {
      "cell_type": "code",
      "source": [
        "vector.shape"
      ],
      "metadata": {
        "colab": {
          "base_uri": "https://localhost:8080/"
        },
        "id": "QCGzJlJ4XqaJ",
        "outputId": "a76ee272-9893-42e7-f220-333b76f867a2"
      },
      "execution_count": 6,
      "outputs": [
        {
          "output_type": "execute_result",
          "data": {
            "text/plain": [
              "torch.Size([3])"
            ]
          },
          "metadata": {},
          "execution_count": 6
        }
      ]
    },
    {
      "cell_type": "markdown",
      "source": [],
      "metadata": {
        "id": "KrGB_PpL46ZP"
      }
    },
    {
      "cell_type": "code",
      "source": [
        "\n",
        "a = torch.tensor([1,2,3])\n",
        "b = torch.tensor([100,200,300])\n",
        "a*b\n",
        "a+b\n",
        ""
      ],
      "metadata": {
        "colab": {
          "base_uri": "https://localhost:8080/"
        },
        "id": "B7uZXWcUXbJT",
        "outputId": "49ad03e9-af37-42fd-efb8-25e08a8899a0"
      },
      "execution_count": 8,
      "outputs": [
        {
          "output_type": "execute_result",
          "data": {
            "text/plain": [
              "tensor([101, 202, 303])"
            ]
          },
          "metadata": {},
          "execution_count": 8
        }
      ]
    },
    {
      "cell_type": "code",
      "source": [
        "import torch\n",
        "\n",
        "# Manually define the RGB values for a 2x4 image\n",
        "# Shape: (Channels=3, Height=2, Width=4)\n",
        "\n",
        "# Red channel\n",
        "red = [\n",
        "    [255, 0, 0, 255],   # Row 1\n",
        "    [255, 0, 0, 255]    # Row 2\n",
        "]\n",
        "\n",
        "# Green channel\n",
        "green = [\n",
        "    [0, 255, 0, 255],\n",
        "    [0, 255, 0, 255]\n",
        "]\n",
        "\n",
        "# Blue channel\n",
        "blue = [\n",
        "    [0, 0, 255, 255],\n",
        "    [0, 0, 255, 255]\n",
        "]\n",
        "\n",
        "# Stack channels into a single tensor\n",
        "rgb_tensor = torch.tensor([red, green, blue], dtype=torch.uint8)\n",
        "\n",
        "print(\"Manual RGB Tensor:\")\n",
        "print(rgb_tensor)\n"
      ],
      "metadata": {
        "colab": {
          "base_uri": "https://localhost:8080/"
        },
        "id": "vZ25s_HuYMed",
        "outputId": "303fd51f-4701-4237-e910-e2fa43d8f647"
      },
      "execution_count": 9,
      "outputs": [
        {
          "output_type": "stream",
          "name": "stdout",
          "text": [
            "Manual RGB Tensor:\n",
            "tensor([[[255,   0,   0, 255],\n",
            "         [255,   0,   0, 255]],\n",
            "\n",
            "        [[  0, 255,   0, 255],\n",
            "         [  0, 255,   0, 255]],\n",
            "\n",
            "        [[  0,   0, 255, 255],\n",
            "         [  0,   0, 255, 255]]], dtype=torch.uint8)\n"
          ]
        }
      ]
    },
    {
      "cell_type": "code",
      "source": [
        "import matplotlib.pyplot as plt\n",
        "\n",
        "image_tensor = rgb_tensor.permute(1, 2, 0)\n",
        "\n",
        "# Plot the image\n",
        "plt.imshow(image_tensor)\n",
        "plt.title(\"Manual RGB Tensor Image\")\n",
        "plt.axis('off')  # Hide axes\n",
        "plt.show()"
      ],
      "metadata": {
        "colab": {
          "base_uri": "https://localhost:8080/",
          "height": 307
        },
        "id": "ZzH8_wFtYY9p",
        "outputId": "f7be5540-d57b-44de-ea5d-a0a5b1c0277f"
      },
      "execution_count": 11,
      "outputs": [
        {
          "output_type": "display_data",
          "data": {
            "text/plain": [
              "<Figure size 640x480 with 1 Axes>"
            ],
            "image/png": "[encoded data removed]"
          },
          "metadata": {}
        }
      ]
    },
    {
      "cell_type": "markdown",
      "source": [
        "Vamos que los tensores no se copian"
      ],
      "metadata": {
        "id": "5Jj-w_J2XwhN"
      }
    },
    {
      "cell_type": "markdown",
      "source": [
        "Vamos a camiar la dimensión de la matriz:"
      ],
      "metadata": {
        "id": "JqM3b6lAYuku"
      }
    },
    {
      "cell_type": "code",
      "source": [
        "matrix"
      ],
      "metadata": {
        "colab": {
          "base_uri": "https://localhost:8080/"
        },
        "id": "jNr9nvHS485P",
        "outputId": "7ca61e2a-6acd-43ed-a682-8c1047735fb9"
      },
      "execution_count": 12,
      "outputs": [
        {
          "output_type": "execute_result",
          "data": {
            "text/plain": [
              "tensor([[0., 0., 0.],\n",
              "        [0., 0., 0.]])"
            ]
          },
          "metadata": {},
          "execution_count": 12
        }
      ]
    },
    {
      "cell_type": "code",
      "source": [
        "same_matrix = matrix.view(1, 6)\n",
        "print(same_matrix)"
      ],
      "metadata": {
        "colab": {
          "base_uri": "https://localhost:8080/"
        },
        "id": "pxkB2MKJY0Tm",
        "outputId": "5c0202d5-7788-44c3-e9e2-0ca572812e03"
      },
      "execution_count": 13,
      "outputs": [
        {
          "output_type": "stream",
          "name": "stdout",
          "text": [
            "tensor([[0., 0., 0., 0., 0., 0.]])\n"
          ]
        }
      ]
    },
    {
      "cell_type": "code",
      "source": [
        "#We get a tensor with a different shape but it still is\n",
        "# the SAME tensor\n",
        "same_matrix = matrix.view(1, 6)\n",
        "# If we change one of its elements...\n",
        "same_matrix[0, 1] = 2.\n",
        "same_matrix"
      ],
      "metadata": {
        "colab": {
          "base_uri": "https://localhost:8080/"
        },
        "id": "ce9EYvOZY8qj",
        "outputId": "85fcdbf9-d207-40f4-d272-6899c8e9d793"
      },
      "execution_count": 14,
      "outputs": [
        {
          "output_type": "execute_result",
          "data": {
            "text/plain": [
              "tensor([[0., 2., 0., 0., 0., 0.]])"
            ]
          },
          "metadata": {},
          "execution_count": 14
        }
      ]
    },
    {
      "cell_type": "code",
      "source": [
        "# It changes both variables: matrix and same_matrix\n",
        "print(matrix)\n",
        "print(same_matrix)"
      ],
      "metadata": {
        "colab": {
          "base_uri": "https://localhost:8080/"
        },
        "id": "9jHzVCzn44so",
        "outputId": "74b83dcc-a368-47f5-91e4-6287ee1eb626"
      },
      "execution_count": 15,
      "outputs": [
        {
          "output_type": "stream",
          "name": "stdout",
          "text": [
            "tensor([[0., 2., 0.],\n",
            "        [0., 0., 0.]])\n",
            "tensor([[0., 2., 0., 0., 0., 0.]])\n"
          ]
        }
      ]
    },
    {
      "cell_type": "code",
      "source": [
        "# We can use \"new_tensor\" method to REALLY copy it into a new one\n",
        "different_matrix = matrix.new_tensor(matrix.view(1, 6))\n",
        "# Now, if we change one of its elements...\n",
        "different_matrix[0, 1] = 3.\n",
        "# The original tensor (matrix) is left untouched!\n",
        "# But we get a \"warning\" from PyTorch telling us\n",
        "# to use \"clone()\" instead!\n",
        "print(matrix)\n",
        "print(different_matrix)"
      ],
      "metadata": {
        "colab": {
          "base_uri": "https://localhost:8080/"
        },
        "id": "gdfjcmU75NkI",
        "outputId": "0ebbe35f-072b-4df5-b4f9-fbb9e9b799ca"
      },
      "execution_count": 16,
      "outputs": [
        {
          "output_type": "stream",
          "name": "stdout",
          "text": [
            "tensor([[0., 2., 0.],\n",
            "        [0., 0., 0.]])\n",
            "tensor([[0., 3., 0., 0., 0., 0.]])\n"
          ]
        },
        {
          "output_type": "stream",
          "name": "stderr",
          "text": [
            "<ipython-input-16-bac3a3914f46>:2: UserWarning: To copy construct from a tensor, it is recommended to use sourceTensor.clone().detach() or sourceTensor.clone().detach().requires_grad_(True), rather than tensor.new_tensor(sourceTensor).\n",
            "  different_matrix = matrix.new_tensor(matrix.view(1, 6))\n"
          ]
        }
      ]
    },
    {
      "cell_type": "code",
      "source": [
        "# Let's follow PyTorch's suggestion and use \"clone\" method\n",
        "another_matrix = matrix.view(1, 6).clone().detach()\n",
        "# Again, if we change one of its elements...\n",
        "another_matrix[0, 1] = 4.\n",
        "# The original tensor (matrix) is left untouched!\n",
        "print(matrix)\n",
        "print(another_matrix)"
      ],
      "metadata": {
        "colab": {
          "base_uri": "https://localhost:8080/"
        },
        "id": "hGKQUhwL5aFx",
        "outputId": "8fdd3442-b8dd-4055-8c19-c7e2e628f16f"
      },
      "execution_count": 17,
      "outputs": [
        {
          "output_type": "stream",
          "name": "stdout",
          "text": [
            "tensor([[0., 2., 0.],\n",
            "        [0., 0., 0.]])\n",
            "tensor([[0., 4., 0., 0., 0., 0.]])\n"
          ]
        }
      ]
    },
    {
      "cell_type": "markdown",
      "source": [
        "# Gradientes"
      ],
      "metadata": {
        "id": "egsdVPFbZ0sG"
      }
    },
    {
      "cell_type": "code",
      "source": [
        "\n",
        "x = torch.tensor([3.0,5.0,7.0])\n",
        "print(x)"
      ],
      "metadata": {
        "colab": {
          "base_uri": "https://localhost:8080/"
        },
        "id": "UbH48LTZZ2RV",
        "outputId": "2b281e67-3daf-463e-ddda-6504a5df8feb"
      },
      "execution_count": 18,
      "outputs": [
        {
          "output_type": "stream",
          "name": "stdout",
          "text": [
            "tensor([3., 5., 7.])\n"
          ]
        }
      ]
    },
    {
      "cell_type": "code",
      "source": [
        "2 * x"
      ],
      "metadata": {
        "colab": {
          "base_uri": "https://localhost:8080/"
        },
        "id": "OiCR0FsQaHhy",
        "outputId": "d9b44b89-a00d-4579-d0f4-92f4a361c153"
      },
      "execution_count": 19,
      "outputs": [
        {
          "output_type": "execute_result",
          "data": {
            "text/plain": [
              "tensor([ 6., 10., 14.])"
            ]
          },
          "metadata": {},
          "execution_count": 19
        }
      ]
    },
    {
      "cell_type": "code",
      "source": [
        "x = torch.tensor([3.0,5.0,7.0],  requires_grad = True)\n",
        "print(x)"
      ],
      "metadata": {
        "colab": {
          "base_uri": "https://localhost:8080/"
        },
        "id": "vdtqOYu7aJhr",
        "outputId": "e091b4f6-59e0-4ef9-c7a3-7a7337587c13"
      },
      "execution_count": 20,
      "outputs": [
        {
          "output_type": "stream",
          "name": "stdout",
          "text": [
            "tensor([3., 5., 7.], requires_grad=True)\n"
          ]
        }
      ]
    },
    {
      "cell_type": "code",
      "source": [
        "\n",
        "y = x + 2\n",
        "print(y)\n"
      ],
      "metadata": {
        "colab": {
          "base_uri": "https://localhost:8080/"
        },
        "id": "R1bXMIMTapHk",
        "outputId": "c9b68ed1-8827-47cd-8641-edf2fead9cbd"
      },
      "execution_count": 21,
      "outputs": [
        {
          "output_type": "stream",
          "name": "stdout",
          "text": [
            "tensor([5., 7., 9.], grad_fn=<AddBackward0>)\n"
          ]
        }
      ]
    },
    {
      "cell_type": "code",
      "source": [
        "y.mean()"
      ],
      "metadata": {
        "colab": {
          "base_uri": "https://localhost:8080/"
        },
        "id": "LLwXzZ3Ea_Pn",
        "outputId": "646ea2ea-b8cb-4ee9-af96-fb9227ac700e"
      },
      "execution_count": 22,
      "outputs": [
        {
          "output_type": "execute_result",
          "data": {
            "text/plain": [
              "tensor(7., grad_fn=<MeanBackward0>)"
            ]
          },
          "metadata": {},
          "execution_count": 22
        }
      ]
    },
    {
      "cell_type": "code",
      "source": [
        "z = x - 1\n",
        "w = z * y\n",
        "print(z)"
      ],
      "metadata": {
        "colab": {
          "base_uri": "https://localhost:8080/"
        },
        "id": "xTvqC3BxbBvf",
        "outputId": "2d747826-95b1-4977-89e6-14709848a2de"
      },
      "execution_count": 23,
      "outputs": [
        {
          "output_type": "stream",
          "name": "stdout",
          "text": [
            "tensor([2., 4., 6.], grad_fn=<SubBackward0>)\n"
          ]
        }
      ]
    },
    {
      "cell_type": "code",
      "source": [
        "x = torch.tensor([3.0,5.0,7.0],  requires_grad = True)\n",
        "y = x + 2\n",
        "z = x - 1\n",
        "w = z * y\n",
        "w.mean()\n"
      ],
      "metadata": {
        "colab": {
          "base_uri": "https://localhost:8080/"
        },
        "id": "6e6X7A6PbSBG",
        "outputId": "642091c9-1590-413a-e28e-b2b361890610"
      },
      "execution_count": 24,
      "outputs": [
        {
          "output_type": "execute_result",
          "data": {
            "text/plain": [
              "tensor(30.6667, grad_fn=<MeanBackward0>)"
            ]
          },
          "metadata": {},
          "execution_count": 24
        }
      ]
    },
    {
      "cell_type": "code",
      "source": [
        "#!pip install torchviz\n",
        "\n"
      ],
      "metadata": {
        "colab": {
          "base_uri": "https://localhost:8080/"
        },
        "id": "AxqHmXhKbokQ",
        "outputId": "26137981-980a-47e9-bb60-a09c02797922"
      },
      "execution_count": 27,
      "outputs": [
        {
          "output_type": "stream",
          "name": "stdout",
          "text": [
            "Collecting torchviz\n",
            "  Downloading torchviz-0.0.3-py3-none-any.whl.metadata (2.1 kB)\n",
            "Requirement already satisfied: torch in /usr/local/lib/python3.11/dist-packages (from torchviz) (2.6.0+cu124)\n",
            "Requirement already satisfied: graphviz in /usr/local/lib/python3.11/dist-packages (from torchviz) (0.20.3)\n",
            "Requirement already satisfied: filelock in /usr/local/lib/python3.11/dist-packages (from torch->torchviz) (3.18.0)\n",
            "Requirement already satisfied: typing-extensions>=4.10.0 in /usr/local/lib/python3.11/dist-packages (from torch->torchviz) (4.13.2)\n",
            "Requirement already satisfied: networkx in /usr/local/lib/python3.11/dist-packages (from torch->torchviz) (3.4.2)\n",
            "Requirement already satisfied: jinja2 in /usr/local/lib/python3.11/dist-packages (from torch->torchviz) (3.1.6)\n",
            "Requirement already satisfied: fsspec in /usr/local/lib/python3.11/dist-packages (from torch->torchviz) (2025.3.2)\n",
            "Collecting nvidia-cuda-nvrtc-cu12==12.4.127 (from torch->torchviz)\n",
            "  Downloading nvidia_cuda_nvrtc_cu12-12.4.127-py3-none-manylinux2014_x86_64.whl.metadata (1.5 kB)\n",
            "Collecting nvidia-cuda-runtime-cu12==12.4.127 (from torch->torchviz)\n",
            "  Downloading nvidia_cuda_runtime_cu12-12.4.127-py3-none-manylinux2014_x86_64.whl.metadata (1.5 kB)\n",
            "Collecting nvidia-cuda-cupti-cu12==12.4.127 (from torch->torchviz)\n",
            "  Downloading nvidia_cuda_cupti_cu12-12.4.127-py3-none-manylinux2014_x86_64.whl.metadata (1.6 kB)\n",
            "Collecting nvidia-cudnn-cu12==9.1.0.70 (from torch->torchviz)\n",
            "  Downloading nvidia_cudnn_cu12-9.1.0.70-py3-none-manylinux2014_x86_64.whl.metadata (1.6 kB)\n",
            "Collecting nvidia-cublas-cu12==12.4.5.8 (from torch->torchviz)\n",
            "  Downloading nvidia_cublas_cu12-12.4.5.8-py3-none-manylinux2014_x86_64.whl.metadata (1.5 kB)\n",
            "Collecting nvidia-cufft-cu12==11.2.1.3 (from torch->torchviz)\n",
            "  Downloading nvidia_cufft_cu12-11.2.1.3-py3-none-manylinux2014_x86_64.whl.metadata (1.5 kB)\n",
            "Collecting nvidia-curand-cu12==10.3.5.147 (from torch->torchviz)\n",
            "  Downloading nvidia_curand_cu12-10.3.5.147-py3-none-manylinux2014_x86_64.whl.metadata (1.5 kB)\n",
            "Collecting nvidia-cusolver-cu12==11.6.1.9 (from torch->torchviz)\n",
            "  Downloading nvidia_cusolver_cu12-11.6.1.9-py3-none-manylinux2014_x86_64.whl.metadata (1.6 kB)\n",
            "Collecting nvidia-cusparse-cu12==12.3.1.170 (from torch->torchviz)\n",
            "  Downloading nvidia_cusparse_cu12-12.3.1.170-py3-none-manylinux2014_x86_64.whl.metadata (1.6 kB)\n",
            "Requirement already satisfied: nvidia-cusparselt-cu12==0.6.2 in /usr/local/lib/python3.11/dist-packages (from torch->torchviz) (0.6.2)\n",
            "Requirement already satisfied: nvidia-nccl-cu12==2.21.5 in /usr/local/lib/python3.11/dist-packages (from torch->torchviz) (2.21.5)\n",
            "Requirement already satisfied: nvidia-nvtx-cu12==12.4.127 in /usr/local/lib/python3.11/dist-packages (from torch->torchviz) (12.4.127)\n",
            "Collecting nvidia-nvjitlink-cu12==12.4.127 (from torch->torchviz)\n",
            "  Downloading nvidia_nvjitlink_cu12-12.4.127-py3-none-manylinux2014_x86_64.whl.metadata (1.5 kB)\n",
            "Requirement already satisfied: triton==3.2.0 in /usr/local/lib/python3.11/dist-packages (from torch->torchviz) (3.2.0)\n",
            "Requirement already satisfied: sympy==1.13.1 in /usr/local/lib/python3.11/dist-packages (from torch->torchviz) (1.13.1)\n",
            "Requirement already satisfied: mpmath<1.4,>=1.1.0 in /usr/local/lib/python3.11/dist-packages (from sympy==1.13.1->torch->torchviz) (1.3.0)\n",
            "Requirement already satisfied: MarkupSafe>=2.0 in /usr/local/lib/python3.11/dist-packages (from jinja2->torch->torchviz) (3.0.2)\n",
            "Downloading torchviz-0.0.3-py3-none-any.whl (5.7 kB)\n",
            "Downloading nvidia_cublas_cu12-12.4.5.8-py3-none-manylinux2014_x86_64.whl (363.4 MB)\n",
            "\u001b[2K   \u001b[90m━━━━━━━━━━━━━━━━━━━━━━━━━━━━━━━━━━━━━━━━\u001b[0m \u001b[32m363.4/363.4 MB\u001b[0m \u001b[31m4.7 MB/s\u001b[0m eta \u001b[36m0:00:00\u001b[0m\n",
            "\u001b[?25hDownloading nvidia_cuda_cupti_cu12-12.4.127-py3-none-manylinux2014_x86_64.whl (13.8 MB)\n",
            "\u001b[2K   \u001b[90m━━━━━━━━━━━━━━━━━━━━━━━━━━━━━━━━━━━━━━━━\u001b[0m \u001b[32m13.8/13.8 MB\u001b[0m \u001b[31m97.7 MB/s\u001b[0m eta \u001b[36m0:00:00\u001b[0m\n",
            "\u001b[?25hDownloading nvidia_cuda_nvrtc_cu12-12.4.127-py3-none-manylinux2014_x86_64.whl (24.6 MB)\n",
            "\u001b[2K   \u001b[90m━━━━━━━━━━━━━━━━━━━━━━━━━━━━━━━━━━━━━━━━\u001b[0m \u001b[32m24.6/24.6 MB\u001b[0m \u001b[31m77.4 MB/s\u001b[0m eta \u001b[36m0:00:00\u001b[0m\n",
            "\u001b[?25hDownloading nvidia_cuda_runtime_cu12-12.4.127-py3-none-manylinux2014_x86_64.whl (883 kB)\n",
            "\u001b[2K   \u001b[90m━━━━━━━━━━━━━━━━━━━━━━━━━━━━━━━━━━━━━━━━\u001b[0m \u001b[32m883.7/883.7 kB\u001b[0m \u001b[31m49.4 MB/s\u001b[0m eta \u001b[36m0:00:00\u001b[0m\n",
            "\u001b[?25hDownloading nvidia_cudnn_cu12-9.1.0.70-py3-none-manylinux2014_x86_64.whl (664.8 MB)\n",
            "\u001b[2K   \u001b[90m━━━━━━━━━━━━━━━━━━━━━━━━━━━━━━━━━━━━━━━\u001b[0m \u001b[32m664.8/664.8 MB\u001b[0m \u001b[31m872.5 kB/s\u001b[0m eta \u001b[36m0:00:00\u001b[0m\n",
            "\u001b[?25hDownloading nvidia_cufft_cu12-11.2.1.3-py3-none-manylinux2014_x86_64.whl (211.5 MB)\n",
            "\u001b[2K   \u001b[90m━━━━━━━━━━━━━━━━━━━━━━━━━━━━━━━━━━━━━━━━\u001b[0m \u001b[32m211.5/211.5 MB\u001b[0m \u001b[31m4.8 MB/s\u001b[0m eta \u001b[36m0:00:00\u001b[0m\n",
            "\u001b[?25hDownloading nvidia_curand_cu12-10.3.5.147-py3-none-manylinux2014_x86_64.whl (56.3 MB)\n",
            "\u001b[2K   \u001b[90m━━━━━━━━━━━━━━━━━━━━━━━━━━━━━━━━━━━━━━━━\u001b[0m \u001b[32m56.3/56.3 MB\u001b[0m \u001b[31m13.4 MB/s\u001b[0m eta \u001b[36m0:00:00\u001b[0m\n",
            "\u001b[?25hDownloading nvidia_cusolver_cu12-11.6.1.9-py3-none-manylinux2014_x86_64.whl (127.9 MB)\n",
            "\u001b[2K   \u001b[90m━━━━━━━━━━━━━━━━━━━━━━━━━━━━━━━━━━━━━━━━\u001b[0m \u001b[32m127.9/127.9 MB\u001b[0m \u001b[31m6.7 MB/s\u001b[0m eta \u001b[36m0:00:00\u001b[0m\n",
            "\u001b[?25hDownloading nvidia_cusparse_cu12-12.3.1.170-py3-none-manylinux2014_x86_64.whl (207.5 MB)\n",
            "\u001b[2K   \u001b[90m━━━━━━━━━━━━━━━━━━━━━━━━━━━━━━━━━━━━━━━━\u001b[0m \u001b[32m207.5/207.5 MB\u001b[0m \u001b[31m1.8 MB/s\u001b[0m eta \u001b[36m0:00:00\u001b[0m\n",
            "\u001b[?25hDownloading nvidia_nvjitlink_cu12-12.4.127-py3-none-manylinux2014_x86_64.whl (21.1 MB)\n",
            "\u001b[2K   \u001b[90m━━━━━━━━━━━━━━━━━━━━━━━━━━━━━━━━━━━━━━━━\u001b[0m \u001b[32m21.1/21.1 MB\u001b[0m \u001b[31m90.2 MB/s\u001b[0m eta \u001b[36m0:00:00\u001b[0m\n",
            "\u001b[?25hInstalling collected packages: nvidia-nvjitlink-cu12, nvidia-curand-cu12, nvidia-cufft-cu12, nvidia-cuda-runtime-cu12, nvidia-cuda-nvrtc-cu12, nvidia-cuda-cupti-cu12, nvidia-cublas-cu12, nvidia-cusparse-cu12, nvidia-cudnn-cu12, nvidia-cusolver-cu12, torchviz\n",
            "  Attempting uninstall: nvidia-nvjitlink-cu12\n",
            "    Found existing installation: nvidia-nvjitlink-cu12 12.5.82\n",
            "    Uninstalling nvidia-nvjitlink-cu12-12.5.82:\n",
            "      Successfully uninstalled nvidia-nvjitlink-cu12-12.5.82\n",
            "  Attempting uninstall: nvidia-curand-cu12\n",
            "    Found existing installation: nvidia-curand-cu12 10.3.6.82\n",
            "    Uninstalling nvidia-curand-cu12-10.3.6.82:\n",
            "      Successfully uninstalled nvidia-curand-cu12-10.3.6.82\n",
            "  Attempting uninstall: nvidia-cufft-cu12\n",
            "    Found existing installation: nvidia-cufft-cu12 11.2.3.61\n",
            "    Uninstalling nvidia-cufft-cu12-11.2.3.61:\n",
            "      Successfully uninstalled nvidia-cufft-cu12-11.2.3.61\n",
            "  Attempting uninstall: nvidia-cuda-runtime-cu12\n",
            "    Found existing installation: nvidia-cuda-runtime-cu12 12.5.82\n",
            "    Uninstalling nvidia-cuda-runtime-cu12-12.5.82:\n",
            "      Successfully uninstalled nvidia-cuda-runtime-cu12-12.5.82\n",
            "  Attempting uninstall: nvidia-cuda-nvrtc-cu12\n",
            "    Found existing installation: nvidia-cuda-nvrtc-cu12 12.5.82\n",
            "    Uninstalling nvidia-cuda-nvrtc-cu12-12.5.82:\n",
            "      Successfully uninstalled nvidia-cuda-nvrtc-cu12-12.5.82\n",
            "  Attempting uninstall: nvidia-cuda-cupti-cu12\n",
            "    Found existing installation: nvidia-cuda-cupti-cu12 12.5.82\n",
            "    Uninstalling nvidia-cuda-cupti-cu12-12.5.82:\n",
            "      Successfully uninstalled nvidia-cuda-cupti-cu12-12.5.82\n",
            "  Attempting uninstall: nvidia-cublas-cu12\n",
            "    Found existing installation: nvidia-cublas-cu12 12.5.3.2\n",
            "    Uninstalling nvidia-cublas-cu12-12.5.3.2:\n",
            "      Successfully uninstalled nvidia-cublas-cu12-12.5.3.2\n",
            "  Attempting uninstall: nvidia-cusparse-cu12\n",
            "    Found existing installation: nvidia-cusparse-cu12 12.5.1.3\n",
            "    Uninstalling nvidia-cusparse-cu12-12.5.1.3:\n",
            "      Successfully uninstalled nvidia-cusparse-cu12-12.5.1.3\n",
            "  Attempting uninstall: nvidia-cudnn-cu12\n",
            "    Found existing installation: nvidia-cudnn-cu12 9.3.0.75\n",
            "    Uninstalling nvidia-cudnn-cu12-9.3.0.75:\n",
            "      Successfully uninstalled nvidia-cudnn-cu12-9.3.0.75\n",
            "  Attempting uninstall: nvidia-cusolver-cu12\n",
            "    Found existing installation: nvidia-cusolver-cu12 11.6.3.83\n",
            "    Uninstalling nvidia-cusolver-cu12-11.6.3.83:\n",
            "      Successfully uninstalled nvidia-cusolver-cu12-11.6.3.83\n",
            "Successfully installed nvidia-cublas-cu12-12.4.5.8 nvidia-cuda-cupti-cu12-12.4.127 nvidia-cuda-nvrtc-cu12-12.4.127 nvidia-cuda-runtime-cu12-12.4.127 nvidia-cudnn-cu12-9.1.0.70 nvidia-cufft-cu12-11.2.1.3 nvidia-curand-cu12-10.3.5.147 nvidia-cusolver-cu12-11.6.1.9 nvidia-cusparse-cu12-12.3.1.170 nvidia-nvjitlink-cu12-12.4.127 torchviz-0.0.3\n"
          ]
        }
      ]
    },
    {
      "cell_type": "code",
      "source": [
        "import torch\n",
        "from torchviz import make_dot\n",
        "\n",
        "# Define tensors\n",
        "x = torch.tensor([3.0, 5.0, 7.0], requires_grad=True)\n",
        "y = x + 2\n",
        "z = x - 1\n",
        "w = z * y\n",
        "out = w.mean()\n",
        "\n",
        "# Create and display the computational graph\n",
        "dot = make_dot(out, params={'x': x})\n",
        "dot.render(\"graph\", format=\"png\", cleanup=False)  # Saves as graph.png\n",
        "dot.view()  # Opens the image\n",
        "make_dot(out, params={'x': x})"
      ],
      "metadata": {
        "colab": {
          "base_uri": "https://localhost:8080/",
          "height": 36
        },
        "id": "8LhB8gOkbg4T",
        "outputId": "dd1ce192-1496-4e96-f581-58cea28e05d8"
      },
      "execution_count": 28,
      "outputs": [
        {
          "output_type": "execute_result",
          "data": {
            "text/plain": [
              "'graph.pdf'"
            ],
            "application/vnd.google.colaboratory.intrinsic+json": {
              "type": "string"
            }
          },
          "metadata": {},
          "execution_count": 28
        }
      ]
    },
    {
      "cell_type": "code",
      "source": [
        "\n"
      ],
      "metadata": {
        "colab": {
          "base_uri": "https://localhost:8080/",
          "height": 454
        },
        "id": "YYdq-NNwcUMZ",
        "outputId": "f2cc5569-394b-4bad-abb6-7d035a98230e"
      },
      "execution_count": 29,
      "outputs": [
        {
          "output_type": "execute_result",
          "data": {
            "image/svg+xml": "<?xml version=\"1.0\" encoding=\"UTF-8\" standalone=\"no\"?>\n<!DOCTYPE svg PUBLIC \"-//W3C//DTD SVG 1.1//EN\"\n \"http://www.w3.org/Graphics/SVG/1.1/DTD/svg11.dtd\">\n<!-- Generated by graphviz version 2.43.0 (0)\n -->\n<!-- Title: %3 Pages: 1 -->\n<svg width=\"204pt\" height=\"325pt\"\n viewBox=\"0.00 0.00 204.00 325.00\" xmlns=\"http://www.w3.org/2000/svg\" xmlns:xlink=\"http://www.w3.org/1999/xlink\">\n<g id=\"graph0\" class=\"graph\" transform=\"scale(1 1) rotate(0) translate(4 321)\">\n<title>%3</title>\n<polygon fill=\"white\" stroke=\"transparent\" points=\"-4,4 -4,-321 200,-321 200,4 -4,4\"/>\n<!-- 133224735491376 -->\n<g id=\"node1\" class=\"node\">\n<title>133224735491376</title>\n<polygon fill=\"#caff70\" stroke=\"black\" points=\"124.5,-31 70.5,-31 70.5,0 124.5,0 124.5,-31\"/>\n<text text-anchor=\"middle\" x=\"97.5\" y=\"-7\" font-family=\"monospace\" font-size=\"10.00\"> ()</text>\n</g>\n<!-- 133224795168992 -->\n<g id=\"node2\" class=\"node\">\n<title>133224795168992</title>\n<polygon fill=\"lightgrey\" stroke=\"black\" points=\"145,-86 50,-86 50,-67 145,-67 145,-86\"/>\n<text text-anchor=\"middle\" x=\"97.5\" y=\"-74\" font-family=\"monospace\" font-size=\"10.00\">MeanBackward0</text>\n</g>\n<!-- 133224795168992&#45;&gt;133224735491376 -->\n<g id=\"edge7\" class=\"edge\">\n<title>133224795168992&#45;&gt;133224735491376</title>\n<path fill=\"none\" stroke=\"black\" d=\"M97.5,-66.79C97.5,-60.07 97.5,-50.4 97.5,-41.34\"/>\n<polygon fill=\"black\" stroke=\"black\" points=\"101,-41.19 97.5,-31.19 94,-41.19 101,-41.19\"/>\n</g>\n<!-- 133224795167360 -->\n<g id=\"node3\" class=\"node\">\n<title>133224795167360</title>\n<polygon fill=\"lightgrey\" stroke=\"black\" points=\"142,-141 53,-141 53,-122 142,-122 142,-141\"/>\n<text text-anchor=\"middle\" x=\"97.5\" y=\"-129\" font-family=\"monospace\" font-size=\"10.00\">MulBackward0</text>\n</g>\n<!-- 133224795167360&#45;&gt;133224795168992 -->\n<g id=\"edge1\" class=\"edge\">\n<title>133224795167360&#45;&gt;133224795168992</title>\n<path fill=\"none\" stroke=\"black\" d=\"M97.5,-121.75C97.5,-114.8 97.5,-104.85 97.5,-96.13\"/>\n<polygon fill=\"black\" stroke=\"black\" points=\"101,-96.09 97.5,-86.09 94,-96.09 101,-96.09\"/>\n</g>\n<!-- 133224782806704 -->\n<g id=\"node4\" class=\"node\">\n<title>133224782806704</title>\n<polygon fill=\"lightgrey\" stroke=\"black\" points=\"89,-196 0,-196 0,-177 89,-177 89,-196\"/>\n<text text-anchor=\"middle\" x=\"44.5\" y=\"-184\" font-family=\"monospace\" font-size=\"10.00\">SubBackward0</text>\n</g>\n<!-- 133224782806704&#45;&gt;133224795167360 -->\n<g id=\"edge2\" class=\"edge\">\n<title>133224782806704&#45;&gt;133224795167360</title>\n<path fill=\"none\" stroke=\"black\" d=\"M53.25,-176.75C60.97,-169.03 72.4,-157.6 81.72,-148.28\"/>\n<polygon fill=\"black\" stroke=\"black\" points=\"84.31,-150.64 88.91,-141.09 79.36,-145.69 84.31,-150.64\"/>\n</g>\n<!-- 133224782802096 -->\n<g id=\"node5\" class=\"node\">\n<title>133224782802096</title>\n<polygon fill=\"lightgrey\" stroke=\"black\" points=\"148,-251 47,-251 47,-232 148,-232 148,-251\"/>\n<text text-anchor=\"middle\" x=\"97.5\" y=\"-239\" font-family=\"monospace\" font-size=\"10.00\">AccumulateGrad</text>\n</g>\n<!-- 133224782802096&#45;&gt;133224782806704 -->\n<g id=\"edge3\" class=\"edge\">\n<title>133224782802096&#45;&gt;133224782806704</title>\n<path fill=\"none\" stroke=\"black\" d=\"M88.75,-231.75C81.03,-224.03 69.6,-212.6 60.28,-203.28\"/>\n<polygon fill=\"black\" stroke=\"black\" points=\"62.64,-200.69 53.09,-196.09 57.69,-205.64 62.64,-200.69\"/>\n</g>\n<!-- 133224782805168 -->\n<g id=\"node7\" class=\"node\">\n<title>133224782805168</title>\n<polygon fill=\"lightgrey\" stroke=\"black\" points=\"196,-196 107,-196 107,-177 196,-177 196,-196\"/>\n<text text-anchor=\"middle\" x=\"151.5\" y=\"-184\" font-family=\"monospace\" font-size=\"10.00\">AddBackward0</text>\n</g>\n<!-- 133224782802096&#45;&gt;133224782805168 -->\n<g id=\"edge6\" class=\"edge\">\n<title>133224782802096&#45;&gt;133224782805168</title>\n<path fill=\"none\" stroke=\"black\" d=\"M106.42,-231.75C114.28,-224.03 125.93,-212.6 135.42,-203.28\"/>\n<polygon fill=\"black\" stroke=\"black\" points=\"138.06,-205.59 142.75,-196.09 133.16,-200.6 138.06,-205.59\"/>\n</g>\n<!-- 133224735490992 -->\n<g id=\"node6\" class=\"node\">\n<title>133224735490992</title>\n<polygon fill=\"lightblue\" stroke=\"black\" points=\"124.5,-317 70.5,-317 70.5,-287 124.5,-287 124.5,-317\"/>\n<text text-anchor=\"middle\" x=\"97.5\" y=\"-305\" font-family=\"monospace\" font-size=\"10.00\">x</text>\n<text text-anchor=\"middle\" x=\"97.5\" y=\"-294\" font-family=\"monospace\" font-size=\"10.00\"> (3)</text>\n</g>\n<!-- 133224735490992&#45;&gt;133224782802096 -->\n<g id=\"edge4\" class=\"edge\">\n<title>133224735490992&#45;&gt;133224782802096</title>\n<path fill=\"none\" stroke=\"black\" d=\"M97.5,-286.84C97.5,-279.21 97.5,-269.7 97.5,-261.45\"/>\n<polygon fill=\"black\" stroke=\"black\" points=\"101,-261.27 97.5,-251.27 94,-261.27 101,-261.27\"/>\n</g>\n<!-- 133224782805168&#45;&gt;133224795167360 -->\n<g id=\"edge5\" class=\"edge\">\n<title>133224782805168&#45;&gt;133224795167360</title>\n<path fill=\"none\" stroke=\"black\" d=\"M142.58,-176.75C134.72,-169.03 123.07,-157.6 113.58,-148.28\"/>\n<polygon fill=\"black\" stroke=\"black\" points=\"115.84,-145.6 106.25,-141.09 110.94,-150.59 115.84,-145.6\"/>\n</g>\n</g>\n</svg>\n",
            "text/plain": [
              "<graphviz.graphs.Digraph at 0x792acd07fa10>"
            ]
          },
          "metadata": {},
          "execution_count": 29
        }
      ]
    },
    {
      "cell_type": "markdown",
      "source": [
        "$$f(x) = x^2 + 3x + 2\n",
        "$$ and his derivate $$f'(x) = 2x + 3\n",
        "$$ evaluemos en dos:f(x) ) 12, y f'(x) = 7"
      ],
      "metadata": {
        "id": "zQzWT8gddkd0"
      }
    },
    {
      "cell_type": "code",
      "source": [
        "import torch\n",
        "\n",
        "# Define a tensor with requires_grad=True so PyTorch tracks it for differentiation\n",
        "x = torch.tensor(2.0, requires_grad=True)\n",
        "#2.0 creates a floating-point tensor (torch.float32 by default).\n",
        "#2 (an integer) creates an integer tensor (torch.int64 by default), which does not support gradients in PyTorch.\n",
        "\n",
        "# Define the function f(x) = x^2 + 3x + 2\n",
        "f_x = x**2 + 3*x + 2\n",
        "\n",
        "# Compute the gradient (derivative)\n",
        "f_x.backward()\n",
        "\n",
        "# Print the derivative at x = 2\n",
        "print(f_x)            # Output: function value at x = 2\n",
        "print(x.grad)         # Output: derivative at x = 2 (f'(2) = 7)"
      ],
      "metadata": {
        "colab": {
          "base_uri": "https://localhost:8080/"
        },
        "id": "PNlUFfU0djgU",
        "outputId": "3ff13942-656d-4c83-d037-09d0eb803d30"
      },
      "execution_count": 34,
      "outputs": [
        {
          "output_type": "stream",
          "name": "stdout",
          "text": [
            "tensor(12., grad_fn=<AddBackward0>)\n",
            "tensor(7.)\n"
          ]
        }
      ]
    },
    {
      "cell_type": "code",
      "source": [
        "make_dot(f_x, params={'x': x})"
      ],
      "metadata": {
        "colab": {
          "base_uri": "https://localhost:8080/",
          "height": 454
        },
        "id": "KGm6WESoekfT",
        "outputId": "b815efa6-1cfc-447e-e4a0-9b5dafa324c6"
      },
      "execution_count": 33,
      "outputs": [
        {
          "output_type": "execute_result",
          "data": {
            "image/svg+xml": "<?xml version=\"1.0\" encoding=\"UTF-8\" standalone=\"no\"?>\n<!DOCTYPE svg PUBLIC \"-//W3C//DTD SVG 1.1//EN\"\n \"http://www.w3.org/Graphics/SVG/1.1/DTD/svg11.dtd\">\n<!-- Generated by graphviz version 2.43.0 (0)\n -->\n<!-- Title: %3 Pages: 1 -->\n<svg width=\"204pt\" height=\"325pt\"\n viewBox=\"0.00 0.00 204.00 325.00\" xmlns=\"http://www.w3.org/2000/svg\" xmlns:xlink=\"http://www.w3.org/1999/xlink\">\n<g id=\"graph0\" class=\"graph\" transform=\"scale(1 1) rotate(0) translate(4 321)\">\n<title>%3</title>\n<polygon fill=\"white\" stroke=\"transparent\" points=\"-4,4 -4,-321 200,-321 200,4 -4,4\"/>\n<!-- 133224735726224 -->\n<g id=\"node1\" class=\"node\">\n<title>133224735726224</title>\n<polygon fill=\"#caff70\" stroke=\"black\" points=\"124.5,-31 70.5,-31 70.5,0 124.5,0 124.5,-31\"/>\n<text text-anchor=\"middle\" x=\"97.5\" y=\"-7\" font-family=\"monospace\" font-size=\"10.00\"> ()</text>\n</g>\n<!-- 133224783311584 -->\n<g id=\"node2\" class=\"node\">\n<title>133224783311584</title>\n<polygon fill=\"lightgrey\" stroke=\"black\" points=\"142,-86 53,-86 53,-67 142,-67 142,-86\"/>\n<text text-anchor=\"middle\" x=\"97.5\" y=\"-74\" font-family=\"monospace\" font-size=\"10.00\">AddBackward0</text>\n</g>\n<!-- 133224783311584&#45;&gt;133224735726224 -->\n<g id=\"edge7\" class=\"edge\">\n<title>133224783311584&#45;&gt;133224735726224</title>\n<path fill=\"none\" stroke=\"black\" d=\"M97.5,-66.79C97.5,-60.07 97.5,-50.4 97.5,-41.34\"/>\n<polygon fill=\"black\" stroke=\"black\" points=\"101,-41.19 97.5,-31.19 94,-41.19 101,-41.19\"/>\n</g>\n<!-- 133224783310672 -->\n<g id=\"node3\" class=\"node\">\n<title>133224783310672</title>\n<polygon fill=\"lightgrey\" stroke=\"black\" points=\"142,-141 53,-141 53,-122 142,-122 142,-141\"/>\n<text text-anchor=\"middle\" x=\"97.5\" y=\"-129\" font-family=\"monospace\" font-size=\"10.00\">AddBackward0</text>\n</g>\n<!-- 133224783310672&#45;&gt;133224783311584 -->\n<g id=\"edge1\" class=\"edge\">\n<title>133224783310672&#45;&gt;133224783311584</title>\n<path fill=\"none\" stroke=\"black\" d=\"M97.5,-121.75C97.5,-114.8 97.5,-104.85 97.5,-96.13\"/>\n<polygon fill=\"black\" stroke=\"black\" points=\"101,-96.09 97.5,-86.09 94,-96.09 101,-96.09\"/>\n</g>\n<!-- 133224795172736 -->\n<g id=\"node4\" class=\"node\">\n<title>133224795172736</title>\n<polygon fill=\"lightgrey\" stroke=\"black\" points=\"89,-196 0,-196 0,-177 89,-177 89,-196\"/>\n<text text-anchor=\"middle\" x=\"44.5\" y=\"-184\" font-family=\"monospace\" font-size=\"10.00\">PowBackward0</text>\n</g>\n<!-- 133224795172736&#45;&gt;133224783310672 -->\n<g id=\"edge2\" class=\"edge\">\n<title>133224795172736&#45;&gt;133224783310672</title>\n<path fill=\"none\" stroke=\"black\" d=\"M53.25,-176.75C60.97,-169.03 72.4,-157.6 81.72,-148.28\"/>\n<polygon fill=\"black\" stroke=\"black\" points=\"84.31,-150.64 88.91,-141.09 79.36,-145.69 84.31,-150.64\"/>\n</g>\n<!-- 133224795171104 -->\n<g id=\"node5\" class=\"node\">\n<title>133224795171104</title>\n<polygon fill=\"lightgrey\" stroke=\"black\" points=\"148,-251 47,-251 47,-232 148,-232 148,-251\"/>\n<text text-anchor=\"middle\" x=\"97.5\" y=\"-239\" font-family=\"monospace\" font-size=\"10.00\">AccumulateGrad</text>\n</g>\n<!-- 133224795171104&#45;&gt;133224795172736 -->\n<g id=\"edge3\" class=\"edge\">\n<title>133224795171104&#45;&gt;133224795172736</title>\n<path fill=\"none\" stroke=\"black\" d=\"M88.75,-231.75C81.03,-224.03 69.6,-212.6 60.28,-203.28\"/>\n<polygon fill=\"black\" stroke=\"black\" points=\"62.64,-200.69 53.09,-196.09 57.69,-205.64 62.64,-200.69\"/>\n</g>\n<!-- 133224795168272 -->\n<g id=\"node7\" class=\"node\">\n<title>133224795168272</title>\n<polygon fill=\"lightgrey\" stroke=\"black\" points=\"196,-196 107,-196 107,-177 196,-177 196,-196\"/>\n<text text-anchor=\"middle\" x=\"151.5\" y=\"-184\" font-family=\"monospace\" font-size=\"10.00\">MulBackward0</text>\n</g>\n<!-- 133224795171104&#45;&gt;133224795168272 -->\n<g id=\"edge6\" class=\"edge\">\n<title>133224795171104&#45;&gt;133224795168272</title>\n<path fill=\"none\" stroke=\"black\" d=\"M106.42,-231.75C114.28,-224.03 125.93,-212.6 135.42,-203.28\"/>\n<polygon fill=\"black\" stroke=\"black\" points=\"138.06,-205.59 142.75,-196.09 133.16,-200.6 138.06,-205.59\"/>\n</g>\n<!-- 133224772902768 -->\n<g id=\"node6\" class=\"node\">\n<title>133224772902768</title>\n<polygon fill=\"lightblue\" stroke=\"black\" points=\"124.5,-317 70.5,-317 70.5,-287 124.5,-287 124.5,-317\"/>\n<text text-anchor=\"middle\" x=\"97.5\" y=\"-305\" font-family=\"monospace\" font-size=\"10.00\">x</text>\n<text text-anchor=\"middle\" x=\"97.5\" y=\"-294\" font-family=\"monospace\" font-size=\"10.00\"> ()</text>\n</g>\n<!-- 133224772902768&#45;&gt;133224795171104 -->\n<g id=\"edge4\" class=\"edge\">\n<title>133224772902768&#45;&gt;133224795171104</title>\n<path fill=\"none\" stroke=\"black\" d=\"M97.5,-286.84C97.5,-279.21 97.5,-269.7 97.5,-261.45\"/>\n<polygon fill=\"black\" stroke=\"black\" points=\"101,-261.27 97.5,-251.27 94,-261.27 101,-261.27\"/>\n</g>\n<!-- 133224795168272&#45;&gt;133224783310672 -->\n<g id=\"edge5\" class=\"edge\">\n<title>133224795168272&#45;&gt;133224783310672</title>\n<path fill=\"none\" stroke=\"black\" d=\"M142.58,-176.75C134.72,-169.03 123.07,-157.6 113.58,-148.28\"/>\n<polygon fill=\"black\" stroke=\"black\" points=\"115.84,-145.6 106.25,-141.09 110.94,-150.59 115.84,-145.6\"/>\n</g>\n</g>\n</svg>\n",
            "text/plain": [
              "<graphviz.graphs.Digraph at 0x792ad027c610>"
            ]
          },
          "metadata": {},
          "execution_count": 33
        }
      ]
    },
    {
      "cell_type": "code",
      "source": [
        "# Otro ejemplo\n",
        "import torch\n",
        "\n",
        "# Define a tensor with requires_grad=True to track gradients\n",
        "x = torch.tensor(2.0, requires_grad=True)\n",
        "\n",
        "# Define the function f(x) = x^3 + 2x + 5\n",
        "f_x = x**3 + 2*x + 5\n",
        "\n",
        "# Compute the gradient (derivative)\n",
        "f_x.backward()\n",
        "# Print results\n",
        "print(f\"Function value at x=2: {f_x.item()}\")  # f(2)\n",
        "print(f\"Derivative at x=2: {x.grad.item()}\")   # f'(2)\n",
        "# .item() converts a one-element tensor into a regular Python number (e.g., float or int)"
      ],
      "metadata": {
        "colab": {
          "base_uri": "https://localhost:8080/"
        },
        "id": "J6O2W2YrkdOl",
        "outputId": "9702d17c-f28e-46dc-c1f0-b99eafaef668"
      },
      "execution_count": 35,
      "outputs": [
        {
          "output_type": "stream",
          "name": "stdout",
          "text": [
            "Function value at x=2: 17.0\n",
            "Derivative at x=2: 14.0\n"
          ]
        }
      ]
    },
    {
      "cell_type": "markdown",
      "source": [
        "# Regla de la cadena\n",
        "# Ejemplo 1\n",
        "# Chain Rule Example with PyTorch\n",
        "\n",
        "## **Chain Rule in Leibniz Notation**\n",
        "If we have a composite function:\n",
        "$$ y = f(g(x)) $$\n",
        "Then, by the chain rule:\n",
        "$$ \\frac{dy}{dx} = \\frac{dy}{dg} \\cdot \\frac{dg}{dx} $$\n",
        "where:\n",
        "- \\( g(x) \\) is the **inner function**.\n",
        "- \\( f(g) \\) is the **outer function**.\n",
        "\n",
        "## **Example: \\( z(x) = (x^2 + 1)^3 \\)**\n",
        "\n",
        "### **Step 1: Define the inner function**\n",
        "$$ y = f(x) = x^2 + 1 $$\n",
        "Derivative:\n",
        "$$ \\frac{dy}{dx} = 2x $$\n",
        "\n",
        "### **Step 2: Define the outer function**\n",
        "$$ g(y) = y^3 $$\n",
        "Derivative:\n",
        "$$ \\frac{dg}{dy} = 3y^2 $$\n",
        "\n",
        "### **Step 3: Apply the Chain Rule**\n",
        "$$ \\frac{dg}{dx} = \\frac{dg}{dy} \\cdot \\frac{dy}{dx} $$\n",
        "Substituting:\n",
        "$$ \\frac{dg}{dy} = 3y^2 = 3(x^2+1)^2$$\n",
        "$$ \\frac{dy}{dx} = 2x $$\n",
        "$$ \\frac{dg}{dx} = 6x(x^2+1)^2$$"
      ],
      "metadata": {
        "id": "046Jr073oknU"
      }
    },
    {
      "cell_type": "code",
      "source": [
        "import torch\n",
        "\n",
        "# Define x as a tensor that requires gradients\n",
        "x = torch.tensor(2.0, requires_grad=True)\n",
        "\n",
        "# Step 1: Define the inner function y = f(x) = x^2 + 1\n",
        "y = x**2 + 1\n",
        "\n",
        "# Step 2: Define the outer function g(y) = y^3\n",
        "g = y**3\n",
        "\n",
        "# Compute the derivative using autograd #dg/dx\n",
        "g.backward()\n",
        "\n",
        "# Print results\n",
        "print(f\"Function value g(x) at x=2: {g.item()}\")  # g(2)\n",
        "print(f\"Derivative dg/dx at x=2: {x.grad.item()}\")   # dg/dx (2)"
      ],
      "metadata": {
        "colab": {
          "base_uri": "https://localhost:8080/"
        },
        "id": "HNQa7c8ZooyS",
        "outputId": "278c2c89-d082-4509-888c-283b5cd7cc8f"
      },
      "execution_count": 37,
      "outputs": [
        {
          "output_type": "stream",
          "name": "stdout",
          "text": [
            "Function value g(x) at x=2: 125.0\n",
            "Derivative dg/dx at x=2: 300.0\n"
          ]
        }
      ]
    },
    {
      "cell_type": "code",
      "source": [
        "make_dot(g, params={'x': x})"
      ],
      "metadata": {
        "colab": {
          "base_uri": "https://localhost:8080/",
          "height": 454
        },
        "id": "H0GAfCPKovLC",
        "outputId": "f350c030-27a4-4f3a-a581-e2cef6e7936a"
      },
      "execution_count": 38,
      "outputs": [
        {
          "output_type": "execute_result",
          "data": {
            "image/svg+xml": "<?xml version=\"1.0\" encoding=\"UTF-8\" standalone=\"no\"?>\n<!DOCTYPE svg PUBLIC \"-//W3C//DTD SVG 1.1//EN\"\n \"http://www.w3.org/Graphics/SVG/1.1/DTD/svg11.dtd\">\n<!-- Generated by graphviz version 2.43.0 (0)\n -->\n<!-- Title: %3 Pages: 1 -->\n<svg width=\"109pt\" height=\"325pt\"\n viewBox=\"0.00 0.00 109.00 325.00\" xmlns=\"http://www.w3.org/2000/svg\" xmlns:xlink=\"http://www.w3.org/1999/xlink\">\n<g id=\"graph0\" class=\"graph\" transform=\"scale(1 1) rotate(0) translate(4 321)\">\n<title>%3</title>\n<polygon fill=\"white\" stroke=\"transparent\" points=\"-4,4 -4,-321 105,-321 105,4 -4,4\"/>\n<!-- 133224735730928 -->\n<g id=\"node1\" class=\"node\">\n<title>133224735730928</title>\n<polygon fill=\"#caff70\" stroke=\"black\" points=\"77.5,-31 23.5,-31 23.5,0 77.5,0 77.5,-31\"/>\n<text text-anchor=\"middle\" x=\"50.5\" y=\"-7\" font-family=\"monospace\" font-size=\"10.00\"> ()</text>\n</g>\n<!-- 133224783310768 -->\n<g id=\"node2\" class=\"node\">\n<title>133224783310768</title>\n<polygon fill=\"lightgrey\" stroke=\"black\" points=\"95,-86 6,-86 6,-67 95,-67 95,-86\"/>\n<text text-anchor=\"middle\" x=\"50.5\" y=\"-74\" font-family=\"monospace\" font-size=\"10.00\">PowBackward0</text>\n</g>\n<!-- 133224783310768&#45;&gt;133224735730928 -->\n<g id=\"edge5\" class=\"edge\">\n<title>133224783310768&#45;&gt;133224735730928</title>\n<path fill=\"none\" stroke=\"black\" d=\"M50.5,-66.79C50.5,-60.07 50.5,-50.4 50.5,-41.34\"/>\n<polygon fill=\"black\" stroke=\"black\" points=\"54,-41.19 50.5,-31.19 47,-41.19 54,-41.19\"/>\n</g>\n<!-- 133224783310624 -->\n<g id=\"node3\" class=\"node\">\n<title>133224783310624</title>\n<polygon fill=\"lightgrey\" stroke=\"black\" points=\"95,-141 6,-141 6,-122 95,-122 95,-141\"/>\n<text text-anchor=\"middle\" x=\"50.5\" y=\"-129\" font-family=\"monospace\" font-size=\"10.00\">AddBackward0</text>\n</g>\n<!-- 133224783310624&#45;&gt;133224783310768 -->\n<g id=\"edge1\" class=\"edge\">\n<title>133224783310624&#45;&gt;133224783310768</title>\n<path fill=\"none\" stroke=\"black\" d=\"M50.5,-121.75C50.5,-114.8 50.5,-104.85 50.5,-96.13\"/>\n<polygon fill=\"black\" stroke=\"black\" points=\"54,-96.09 50.5,-86.09 47,-96.09 54,-96.09\"/>\n</g>\n<!-- 133224783299440 -->\n<g id=\"node4\" class=\"node\">\n<title>133224783299440</title>\n<polygon fill=\"lightgrey\" stroke=\"black\" points=\"95,-196 6,-196 6,-177 95,-177 95,-196\"/>\n<text text-anchor=\"middle\" x=\"50.5\" y=\"-184\" font-family=\"monospace\" font-size=\"10.00\">PowBackward0</text>\n</g>\n<!-- 133224783299440&#45;&gt;133224783310624 -->\n<g id=\"edge2\" class=\"edge\">\n<title>133224783299440&#45;&gt;133224783310624</title>\n<path fill=\"none\" stroke=\"black\" d=\"M50.5,-176.75C50.5,-169.8 50.5,-159.85 50.5,-151.13\"/>\n<polygon fill=\"black\" stroke=\"black\" points=\"54,-151.09 50.5,-141.09 47,-151.09 54,-151.09\"/>\n</g>\n<!-- 133224783312256 -->\n<g id=\"node5\" class=\"node\">\n<title>133224783312256</title>\n<polygon fill=\"lightgrey\" stroke=\"black\" points=\"101,-251 0,-251 0,-232 101,-232 101,-251\"/>\n<text text-anchor=\"middle\" x=\"50.5\" y=\"-239\" font-family=\"monospace\" font-size=\"10.00\">AccumulateGrad</text>\n</g>\n<!-- 133224783312256&#45;&gt;133224783299440 -->\n<g id=\"edge3\" class=\"edge\">\n<title>133224783312256&#45;&gt;133224783299440</title>\n<path fill=\"none\" stroke=\"black\" d=\"M50.5,-231.75C50.5,-224.8 50.5,-214.85 50.5,-206.13\"/>\n<polygon fill=\"black\" stroke=\"black\" points=\"54,-206.09 50.5,-196.09 47,-206.09 54,-206.09\"/>\n</g>\n<!-- 133224735728720 -->\n<g id=\"node6\" class=\"node\">\n<title>133224735728720</title>\n<polygon fill=\"lightblue\" stroke=\"black\" points=\"77.5,-317 23.5,-317 23.5,-287 77.5,-287 77.5,-317\"/>\n<text text-anchor=\"middle\" x=\"50.5\" y=\"-305\" font-family=\"monospace\" font-size=\"10.00\">x</text>\n<text text-anchor=\"middle\" x=\"50.5\" y=\"-294\" font-family=\"monospace\" font-size=\"10.00\"> ()</text>\n</g>\n<!-- 133224735728720&#45;&gt;133224783312256 -->\n<g id=\"edge4\" class=\"edge\">\n<title>133224735728720&#45;&gt;133224783312256</title>\n<path fill=\"none\" stroke=\"black\" d=\"M50.5,-286.84C50.5,-279.21 50.5,-269.7 50.5,-261.45\"/>\n<polygon fill=\"black\" stroke=\"black\" points=\"54,-261.27 50.5,-251.27 47,-261.27 54,-261.27\"/>\n</g>\n</g>\n</svg>\n",
            "text/plain": [
              "<graphviz.graphs.Digraph at 0x792acd09f250>"
            ]
          },
          "metadata": {},
          "execution_count": 38
        }
      ]
    },
    {
      "cell_type": "markdown",
      "source": [
        "# Ejemplo 2"
      ],
      "metadata": {
        "id": "h9QOrwCapdyY"
      }
    },
    {
      "cell_type": "code",
      "source": [
        "x = torch.tensor([3.0,5.0,7.0], requires_grad = True)\n",
        "print(x)"
      ],
      "metadata": {
        "colab": {
          "base_uri": "https://localhost:8080/"
        },
        "id": "LJmzbz_SpgRv",
        "outputId": "32c6cc3b-cba2-441a-c64d-375d30314adc"
      },
      "execution_count": 42,
      "outputs": [
        {
          "output_type": "stream",
          "name": "stdout",
          "text": [
            "tensor([3., 5., 7.], requires_grad=True)\n"
          ]
        }
      ]
    },
    {
      "cell_type": "code",
      "source": [
        "y = x + 2\n",
        "print(y)"
      ],
      "metadata": {
        "colab": {
          "base_uri": "https://localhost:8080/"
        },
        "id": "KopqIZg2prE5",
        "outputId": "f84ccaf1-515e-40ed-db26-cd3d632640fc"
      },
      "execution_count": 43,
      "outputs": [
        {
          "output_type": "stream",
          "name": "stdout",
          "text": [
            "tensor([5., 7., 9.], grad_fn=<AddBackward0>)\n"
          ]
        }
      ]
    },
    {
      "cell_type": "code",
      "source": [
        "y=2*y*y\n",
        "print(y)"
      ],
      "metadata": {
        "colab": {
          "base_uri": "https://localhost:8080/"
        },
        "id": "GYiWm4N2pxhO",
        "outputId": "6a974936-6c64-48d1-eef0-28b1f6442e5f"
      },
      "execution_count": 44,
      "outputs": [
        {
          "output_type": "stream",
          "name": "stdout",
          "text": [
            "tensor([ 50.,  98., 162.], grad_fn=<MulBackward0>)\n"
          ]
        }
      ]
    },
    {
      "cell_type": "code",
      "source": [
        "z = y.mean()\n",
        "print(z)"
      ],
      "metadata": {
        "colab": {
          "base_uri": "https://localhost:8080/"
        },
        "id": "lsK_FW9tqlI0",
        "outputId": "a4226784-8e15-4881-e28a-4b6b6000befa"
      },
      "execution_count": 45,
      "outputs": [
        {
          "output_type": "stream",
          "name": "stdout",
          "text": [
            "tensor(103.3333, grad_fn=<MeanBackward0>)\n"
          ]
        }
      ]
    },
    {
      "cell_type": "markdown",
      "source": [
        "Matematicamente\n",
        "\n",
        "El valor de $$Y =\n",
        "\\begin{bmatrix}\n",
        "2(X_1 + 2)^2 \\\\\n",
        "2(X_2 + 2)^2 \\\\\n",
        "2(X_3 + 2)^2\n",
        "\\end{bmatrix}\n",
        "$$, note que esto es una función que va de $R^3$ a $R^3$\n",
        "\n",
        "$$z = \\frac{1}{3} \\sum_{i=1}^{3} y_i$$"
      ],
      "metadata": {
        "id": "VDulJvYtp-YN"
      }
    },
    {
      "cell_type": "markdown",
      "source": [
        "# Solución matemática:\n",
        "El valor de $$Y =\n",
        "\\begin{bmatrix}\n",
        "2(X_1 + 2)^2 \\\\\n",
        "2(X_2 + 2)^2 \\\\\n",
        "2(X_3 + 2)^2\n",
        "\\end{bmatrix}\n",
        "$$, note que esto es una función que va de $R^3$ a $R^3$"
      ],
      "metadata": {
        "id": "0sKIivs5u4Rx"
      }
    },
    {
      "cell_type": "markdown",
      "source": [
        "$$\n",
        "\\frac{dz}{dX} = \\frac{dz}{dY}^T \\cdot \\frac{dY}{dX}\n",
        "$$"
      ],
      "metadata": {
        "id": "adlV9RY_u7ul"
      }
    },
    {
      "cell_type": "markdown",
      "source": [
        "Queremos sacar la derivcada de z con respecto a X, $\\frac{dz}{dX}$\n",
        "\n",
        "> Añadir blockquote\n"
      ],
      "metadata": {
        "id": "ZVktcW1RvCEZ"
      }
    },
    {
      "cell_type": "markdown",
      "source": [
        "Queremos sacar la derivcada de z con respecto a X, $\\frac{dz}{dX}$\n",
        "\n"
      ],
      "metadata": {
        "id": "bLw5BacOvHYz"
      }
    },
    {
      "cell_type": "markdown",
      "source": [
        "$$\n",
        "\\frac{dz}{dX} = \\frac{dz}{dY}^t\\frac{dY}{dX} =\n",
        "\\begin{bmatrix}\n",
        "\\frac{dz}{dy_1} & \\frac{dz}{dy_2} & \\frac{dz}{dy_3}\n",
        "\\end{bmatrix}\n",
        "\\cdot\n",
        "\\begin{bmatrix}\n",
        "\\frac{dY_1}{dX_1} & \\frac{dY_1}{dX_2} & \\frac{dY_1}{dX_3} \\\\\n",
        "\\frac{dY_2}{dX_1} & \\frac{dY_2}{dX_2} & \\frac{dY_2}{dX_3} \\\\\n",
        "\\frac{dY_3}{dX_1} & \\frac{dY_3}{dX_2} & \\frac{dY_3}{dX_3}\n",
        "\\end{bmatrix}\n",
        "$$\n"
      ],
      "metadata": {
        "id": "hi6smz84vM1h"
      }
    },
    {
      "cell_type": "markdown",
      "source": [
        "Resolviendo $\\frac{dz}{dY}'= [1/3y_1, 1/3y_2, 1/3y_3]$"
      ],
      "metadata": {
        "id": "OQd2ttdAvN0h"
      }
    },
    {
      "cell_type": "markdown",
      "source": [
        "Por otro lado,\n",
        "\n",
        "$$\n",
        "\\frac{dY}{dX} =\n",
        "\\begin{bmatrix}\n",
        "\\frac{dY_1}{dX_1} & \\frac{dY_1}{dX_2} & \\frac{dY_1}{dX_3} \\\\\n",
        "\\frac{dY_2}{dX_1} & \\frac{dY_2}{dX_2} & \\frac{dY_2}{dX_3} \\\\\n",
        "\\frac{dY_3}{dX_1} & \\frac{dY_3}{dX_2} & \\frac{dY_3}{dX_3}\n",
        "\\end{bmatrix}\n",
        "=\n",
        "\\begin{bmatrix}\n",
        "4(X_1 + 2) & 0 & 0 \\\\\n",
        "0 & 4(X_2 + 2) & 0 \\\\\n",
        "0 & 0 & 4(X_3 + 2)\n",
        "\\end{bmatrix}\n",
        "$$"
      ],
      "metadata": {
        "id": "QmHcpmP_vS9R"
      }
    },
    {
      "cell_type": "markdown",
      "source": [
        "Sustituyendo numericamente: (4(3+2) / 3,  4(5+2) / 3,  4(7+2)/3 = (20/3,28/3,36/3) = (6.6, 9.9.33, 12 )"
      ],
      "metadata": {
        "id": "V3fHK2pYvXlp"
      }
    },
    {
      "cell_type": "markdown",
      "source": [
        "En torch:"
      ],
      "metadata": {
        "id": "91kxnwymvqp7"
      }
    },
    {
      "cell_type": "code",
      "source": [
        "x = torch.tensor([3.0,5.0,7.0], requires_grad = True)\n",
        "y = x + 2\n",
        "y=2*y*y\n",
        "z = y.mean()\n"
      ],
      "metadata": {
        "id": "yxnptsyMvpxr"
      },
      "execution_count": 46,
      "outputs": []
    },
    {
      "cell_type": "code",
      "source": [
        "z.backward()\n",
        "print(x.grad)"
      ],
      "metadata": {
        "colab": {
          "base_uri": "https://localhost:8080/"
        },
        "id": "opaBhH6nvGoJ",
        "outputId": "fb15eeed-d951-4bb0-cb78-0c29aaca5c90"
      },
      "execution_count": 47,
      "outputs": [
        {
          "output_type": "stream",
          "name": "stdout",
          "text": [
            "tensor([ 6.6667,  9.3333, 12.0000])\n"
          ]
        }
      ]
    },
    {
      "cell_type": "markdown",
      "source": [
        "# Acumular el gradiente"
      ],
      "metadata": {
        "id": "YCYJtWLU0Dri"
      }
    },
    {
      "cell_type": "code",
      "source": [
        "import torch\n",
        "\n",
        "# Creamos un tensor con gradientes\n",
        "x = torch.tensor([2.0], requires_grad=True)\n",
        "\n",
        "# Paso 1 - Calculamos la pérdida y el gradiente\n",
        "loss1 = x ** 2  # f(x) = x^2\n",
        "loss1.backward()  # Calculamos df/dx\n",
        "\n",
        "print(f\"Paso 1 - Gradiente de x: {x.grad.item()}\")  # df/dx = 2x = 4\n",
        "\n",
        "# Paso 2 - Calculamos otra pérdida SIN limpiar los gradientes\n",
        "loss2 = 3 * x  # g(x) = 3x\n",
        "loss2.backward()  # Calculamos dg/dx\n",
        "\n",
        "print(f\"Paso 2 - Gradiente acumulado de x: {x.grad.item()}\")  # df/dx + dg/dx = 4 + 3 = 7\n"
      ],
      "metadata": {
        "colab": {
          "base_uri": "https://localhost:8080/"
        },
        "id": "H1xYeGXD0G15",
        "outputId": "262ba6af-76a3-4a7c-e946-9f886a7362bc"
      },
      "execution_count": 49,
      "outputs": [
        {
          "output_type": "stream",
          "name": "stdout",
          "text": [
            "Paso 1 - Gradiente de x: 4.0\n",
            "Paso 2 - Gradiente acumulado de x: 7.0\n"
          ]
        }
      ]
    },
    {
      "cell_type": "markdown",
      "source": [
        "la segunda derivada debería haber dado 3 y no 7"
      ],
      "metadata": {
        "id": "Mliwlm8l0dNa"
      }
    },
    {
      "cell_type": "code",
      "source": [
        "import torch\n",
        "\n",
        "# Creamos un tensor con gradientes\n",
        "x = torch.tensor([2.0], requires_grad=True)\n",
        "\n",
        "# Paso 1 - Calculamos la pérdida y el gradiente\n",
        "loss1 = x ** 2\n",
        "loss1.backward()\n",
        "\n",
        "print(f\"Paso 1 - Gradiente de x: {x.grad.item()}\")  # 4\n",
        "\n",
        "# 🔥 Limpiamos los gradientes antes del siguiente paso\n",
        "x.grad.zero_()\n",
        "\n",
        "# Paso 2 - Calculamos otra pérdida\n",
        "loss2 = 3 * x\n",
        "loss2.backward()\n",
        "\n",
        "print(f\"Paso 2 - Gradiente de x después de zero_(): {x.grad.item()}\")  # 3"
      ],
      "metadata": {
        "colab": {
          "base_uri": "https://localhost:8080/"
        },
        "id": "ER09GO8e0jcC",
        "outputId": "d8b66c09-0766-49c6-a7eb-4938810064bf"
      },
      "execution_count": 50,
      "outputs": [
        {
          "output_type": "stream",
          "name": "stdout",
          "text": [
            "Paso 1 - Gradiente de x: 4.0\n",
            "Paso 2 - Gradiente de x después de zero_(): 3.0\n"
          ]
        }
      ]
    },
    {
      "cell_type": "markdown",
      "source": [
        "Otro concepto importante, si reescribo una variable en terminos de si mismo:"
      ],
      "metadata": {
        "id": "QjwcGdQ41BvJ"
      }
    },
    {
      "cell_type": "code",
      "source": [
        "import torch\n",
        "\n",
        "# Creamos un tensor con gradientes\n",
        "x = torch.tensor([2.0], requires_grad=True)\n",
        "\n",
        "# Calculamos la pérdida y el gradiente\n",
        "loss = x ** 2  # f(x) = x^2\n",
        "loss.backward()  # df/dx = 2x\n",
        "\n",
        "# Intentamos actualizar sin `torch.no_grad()`\n",
        "x -= 0.1 * x.grad  # x = x -  lr  gradiente\n",
        "\n",
        "print(f\"Nuevo valor de x: {x}\")"
      ],
      "metadata": {
        "colab": {
          "base_uri": "https://localhost:8080/",
          "height": 220
        },
        "id": "vMmHqH6e1F0Q",
        "outputId": "2bbe4292-240d-466b-faee-3d9c51e25ee3"
      },
      "execution_count": 51,
      "outputs": [
        {
          "output_type": "error",
          "ename": "RuntimeError",
          "evalue": "a leaf Variable that requires grad is being used in an in-place operation.",
          "traceback": [
            "\u001b[0;31m---------------------------------------------------------------------------\u001b[0m",
            "\u001b[0;31mRuntimeError\u001b[0m                              Traceback (most recent call last)",
            "\u001b[0;32m<ipython-input-51-ffe101ac8298>\u001b[0m in \u001b[0;36m<cell line: 0>\u001b[0;34m()\u001b[0m\n\u001b[1;32m      9\u001b[0m \u001b[0;34m\u001b[0m\u001b[0m\n\u001b[1;32m     10\u001b[0m \u001b[0;31m# Intentamos actualizar sin `torch.no_grad()`\u001b[0m\u001b[0;34m\u001b[0m\u001b[0;34m\u001b[0m\u001b[0m\n\u001b[0;32m---> 11\u001b[0;31m \u001b[0mx\u001b[0m \u001b[0;34m-=\u001b[0m \u001b[0;36m0.1\u001b[0m \u001b[0;34m*\u001b[0m \u001b[0mx\u001b[0m\u001b[0;34m.\u001b[0m\u001b[0mgrad\u001b[0m  \u001b[0;31m# x = x -  gradiente\u001b[0m\u001b[0;34m\u001b[0m\u001b[0;34m\u001b[0m\u001b[0m\n\u001b[0m\u001b[1;32m     12\u001b[0m \u001b[0;34m\u001b[0m\u001b[0m\n\u001b[1;32m     13\u001b[0m \u001b[0mprint\u001b[0m\u001b[0;34m(\u001b[0m\u001b[0;34mf\"Nuevo valor de x: {x}\"\u001b[0m\u001b[0;34m)\u001b[0m\u001b[0;34m\u001b[0m\u001b[0;34m\u001b[0m\u001b[0m\n",
            "\u001b[0;31mRuntimeError\u001b[0m: a leaf Variable that requires grad is being used in an in-place operation."
          ]
        }
      ]
    },
    {
      "cell_type": "code",
      "source": [
        "import torch\n",
        "\n",
        "# Creamos un tensor con gradientes\n",
        "x = torch.tensor([2.0], requires_grad=True)\n",
        "\n",
        "# Calculamos la pérdida y el gradiente\n",
        "loss = x ** 2  # f(x) = x^2\n",
        "loss.backward()  # df/dx = 2x = 4\n",
        "\n",
        "# ✅ Solución: Usamos `torch.no_grad()` para actualizar x sin rastrear gradientes\n",
        "with torch.no_grad():\n",
        "    x -= 0.1 * x.grad  # x = x - lr * gradiente\n",
        "\n",
        "print(f\"Nuevo valor de x: {x}\")  # Nuevo x después de la actualización\n",
        "\n",
        "# 🔄 Importante: Si seguimos usando x para calcular gradientes, debemos limpiar x.grad\n",
        "#x.grad.zero_()  # Reinicia los gradientes para la siguiente iteración, pero no necesario si hay una sola iteración"
      ],
      "metadata": {
        "colab": {
          "base_uri": "https://localhost:8080/"
        },
        "id": "EB4NBXXy1poY",
        "outputId": "1854b2f1-2276-448a-8330-a0074aa1e667"
      },
      "execution_count": 53,
      "outputs": [
        {
          "output_type": "stream",
          "name": "stdout",
          "text": [
            "Nuevo valor de x: tensor([1.6000], requires_grad=True)\n"
          ]
        }
      ]
    },
    {
      "cell_type": "markdown",
      "source": [
        "# Generar datos de torch numpy"
      ],
      "metadata": {
        "id": "tjHhWH5j6zx7"
      }
    },
    {
      "cell_type": "markdown",
      "source": [],
      "metadata": {
        "id": "DYR0qvr6u3xi"
      }
    },
    {
      "cell_type": "code",
      "source": [],
      "metadata": {
        "id": "EyDU784Lkcoe"
      },
      "execution_count": null,
      "outputs": []
    },
    {
      "cell_type": "code",
      "source": [
        "import numpy as np\n",
        "\n",
        "# 1. Define true parameters and number of data points\n",
        "true_b = 1\n",
        "true_w = 2\n",
        "N = 100\n",
        "\n",
        "# 2. Data Generation\n",
        "np.random.seed(42) # for reproducibility\n",
        "x = np.random.rand(N, 1)\n",
        "epsilon = (0.1 * np.random.randn(N, 1)) # Note: using 'epsilon' instead of 'épsilon' for standard variable naming\n",
        "y = true_b + true_w * x + epsilon\n",
        "\n",
        "# 3. Shuffle indices for splitting data\n",
        "idx = np.arange(N)\n",
        "np.random.shuffle(idx)\n",
        "\n",
        "# 4. Define split point and create train/validation indices\n",
        "split_ratio = 0.8\n",
        "train_idx = idx[:int(N * split_ratio)]\n",
        "val_idx = idx[int(N * split_ratio):]\n",
        "\n",
        "# 5. Generate train and validation sets\n",
        "x_train, y_train = x[train_idx], y[train_idx]\n",
        "x_val, y_val = x[val_idx], y[val_idx]\n",
        "\n",
        "# Optional: Print shapes to verify\n",
        "print(\"Shapes of the generated data:\")\n",
        "print(f\"x: {x.shape}\")\n",
        "print(f\"y: {y.shape}\")\n",
        "print(f\"x_train: {x_train.shape}\")\n",
        "print(f\"y_train: {y_train.shape}\")\n",
        "print(f\"x_val: {x_val.shape}\")\n",
        "print(f\"y_val: {y_val.shape}\")\n",
        "\n",
        "# Optional: Print some of the data\n",
        "# print(\"\\nFirst 5 x_train values:\\n\", x_train[:5])\n",
        "# print(\"\\nFirst 5 y_train values:\\n\", y_train[:5])"
      ],
      "metadata": {
        "colab": {
          "base_uri": "https://localhost:8080/"
        },
        "id": "gGAR05Kv62HG",
        "outputId": "71595c5d-b584-41e2-d856-7873f0405c3e"
      },
      "execution_count": null,
      "outputs": [
        {
          "output_type": "stream",
          "name": "stdout",
          "text": [
            "Shapes of the generated data:\n",
            "x: (100, 1)\n",
            "y: (100, 1)\n",
            "x_train: (80, 1)\n",
            "y_train: (80, 1)\n",
            "x_val: (20, 1)\n",
            "y_val: (20, 1)\n"
          ]
        }
      ]
    },
    {
      "cell_type": "code",
      "source": [
        "import numpy as np\n",
        "import matplotlib.pyplot as plt\n",
        "import seaborn as sns # Para mejorar la estética"
      ],
      "metadata": {
        "id": "oxLDyvEJ7aTD"
      },
      "execution_count": null,
      "outputs": []
    },
    {
      "cell_type": "code",
      "source": [
        "# Aplicar un tema de Seaborn para mejorar la apariencia\n",
        "sns.set_theme(style=\"whitegrid\") # Puedes probar \"darkgrid\", \"white\", \"ticks\"\n",
        "\n",
        "# Crear una figura con dos subplots (uno al lado del otro)\n",
        "fig, axes = plt.subplots(1, 2, figsize=(14, 6), sharey=True) # sharey para misma escala en Y\n",
        "\n",
        "# 1. Gráfico para datos de ENTRENAMIENTO\n",
        "axes[0].scatter(x_train, y_train, alpha=0.7, edgecolor='k', s=50, label='Datos de Entrenamiento')\n",
        "# Línea de la relación verdadera\n",
        "x_line = np.linspace(0, 1, 100).reshape(-1, 1) # Rango de x original\n",
        "y_line = true_b + true_w * x_line\n",
        "axes[0].plot(x_line, y_line, color='red', linestyle='--', linewidth=2, label='Relación Verdadera')\n",
        "\n",
        "axes[0].set_xlabel(\"x_train\", fontsize=12)\n",
        "axes[0].set_ylabel(\"y_train\", fontsize=12)\n",
        "axes[0].set_title(\"Dispersión: Datos de Entrenamiento vs Verdadera Relación\", fontsize=14)\n",
        "axes[0].legend(fontsize=10)\n",
        "axes[0].grid(True, linestyle=':', alpha=0.7)\n",
        "\n",
        "# 2. Gráfico para datos de VALIDACIÓN\n",
        "axes[1].scatter(x_val, y_val, alpha=0.7, color='green', edgecolor='k', s=50, label='Datos de Validación')\n",
        "# Línea de la relación verdadera (la misma)\n",
        "axes[1].plot(x_line, y_line, color='red', linestyle='--', linewidth=2, label='Relación Verdadera')\n",
        "\n",
        "axes[1].set_xlabel(\"x_val\", fontsize=12)\n",
        "# axes[1].set_ylabel(\"y_val\", fontsize=12) # No es necesario si sharey=True\n",
        "axes[1].set_title(\"Dispersión: Datos de Validación vs Verdadera Relación\", fontsize=14)\n",
        "axes[1].legend(fontsize=10)\n",
        "axes[1].grid(True, linestyle=':', alpha=0.7)\n",
        "\n",
        "# Ajustar el layout para que no se superpongan los títulos/etiquetas\n",
        "plt.tight_layout()\n",
        "\n",
        "# Mostrar los gráficos\n",
        "plt.show()"
      ],
      "metadata": {
        "colab": {
          "base_uri": "https://localhost:8080/",
          "height": 541
        },
        "id": "VLDId7z47ayE",
        "outputId": "2d8e5881-dbc1-4cc4-8dc6-0856eb3ec56e"
      },
      "execution_count": null,
      "outputs": [
        {
          "output_type": "display_data",
          "data": {
            "text/plain": [
              "<Figure size 1400x600 with 2 Axes>"
            ],
            "image/png": "[encoded data removed]"
          },
          "metadata": {}
        }
      ]
    },
    {
      "cell_type": "markdown",
      "source": [
        "Convertir a otro formato"
      ],
      "metadata": {
        "id": "tFQx4cCL77rs"
      }
    },
    {
      "cell_type": "code",
      "source": [
        "x_train_tensor = torch.as_tensor(x_train)\n",
        "x_train.dtype, x_train_tensor.dtype"
      ],
      "metadata": {
        "colab": {
          "base_uri": "https://localhost:8080/"
        },
        "id": "UBm8Xl3x79UI",
        "outputId": "5c84d278-d0c9-43c8-819a-ed53a999f0bd"
      },
      "execution_count": null,
      "outputs": [
        {
          "output_type": "execute_result",
          "data": {
            "text/plain": [
              "(dtype('float64'), torch.float64)"
            ]
          },
          "metadata": {},
          "execution_count": 19
        }
      ]
    },
    {
      "cell_type": "code",
      "source": [
        "float_tensor = x_train_tensor.float()\n",
        "float_tensor.dtype"
      ],
      "metadata": {
        "colab": {
          "base_uri": "https://localhost:8080/"
        },
        "id": "fFSGc7018Cdg",
        "outputId": "03a2875b-7564-41b4-a993-45cd4ee02610"
      },
      "execution_count": null,
      "outputs": [
        {
          "output_type": "execute_result",
          "data": {
            "text/plain": [
              "torch.float32"
            ]
          },
          "metadata": {},
          "execution_count": 20
        }
      ]
    },
    {
      "cell_type": "markdown",
      "source": [
        "Ojo con las mofiicaciones"
      ],
      "metadata": {
        "id": "QA2Y2x958MIE"
      }
    },
    {
      "cell_type": "code",
      "source": [
        "dummy_array = np.array([1, 2, 3])\n",
        "dummy_tensor = torch.as_tensor(dummy_array)\n",
        "# Modifies the numpy array\n",
        "dummy_array[1] = 0\n",
        "# Tensor gets modified too...\n",
        "dummy_tensor"
      ],
      "metadata": {
        "colab": {
          "base_uri": "https://localhost:8080/"
        },
        "id": "KQmJ1rd78DYU",
        "outputId": "6765e07c-2234-4418-adb4-4115a6b848d1"
      },
      "execution_count": null,
      "outputs": [
        {
          "output_type": "execute_result",
          "data": {
            "text/plain": [
              "tensor([1, 0, 3])"
            ]
          },
          "metadata": {},
          "execution_count": 21
        }
      ]
    },
    {
      "cell_type": "markdown",
      "source": [
        "Me puedo devolver"
      ],
      "metadata": {
        "id": "S2-h-Pv38Rda"
      }
    },
    {
      "cell_type": "code",
      "source": [
        "dummy_tensor.numpy()"
      ],
      "metadata": {
        "colab": {
          "base_uri": "https://localhost:8080/"
        },
        "id": "NautOaT-8SiJ",
        "outputId": "0155aa88-75b8-41a3-a5a2-2b68e17334d0"
      },
      "execution_count": null,
      "outputs": [
        {
          "output_type": "execute_result",
          "data": {
            "text/plain": [
              "array([1, 0, 3])"
            ]
          },
          "metadata": {},
          "execution_count": 22
        }
      ]
    },
    {
      "cell_type": "markdown",
      "source": [
        "**GPU**"
      ],
      "metadata": {
        "id": "kDPa9hzK8X4x"
      }
    },
    {
      "cell_type": "code",
      "source": [
        "import torch\n",
        "import numpy"
      ],
      "metadata": {
        "id": "iHii6KnW8mxX"
      },
      "execution_count": null,
      "outputs": []
    },
    {
      "cell_type": "code",
      "source": [
        "device = 'cuda' if torch.cuda.is_available() else 'cpu'\n",
        "print(device)"
      ],
      "metadata": {
        "colab": {
          "base_uri": "https://localhost:8080/"
        },
        "id": "cd86ykrm8ZaP",
        "outputId": "bb1e27fd-2b19-4b9a-8b06-15e4586537fa"
      },
      "execution_count": null,
      "outputs": [
        {
          "output_type": "stream",
          "name": "stdout",
          "text": [
            "cuda\n"
          ]
        }
      ]
    },
    {
      "cell_type": "code",
      "source": [
        "n_cudas = torch.cuda.device_count()\n",
        "for i in range(n_cudas):\n",
        "  print(torch.cuda.get_device_name(i))"
      ],
      "metadata": {
        "colab": {
          "base_uri": "https://localhost:8080/"
        },
        "id": "JcXBWF3w8bvR",
        "outputId": "c04f2bb7-d4cb-41be-880e-c3454a760180"
      },
      "execution_count": null,
      "outputs": [
        {
          "output_type": "stream",
          "name": "stdout",
          "text": [
            "Tesla T4\n"
          ]
        }
      ]
    },
    {
      "cell_type": "markdown",
      "source": [
        "Me llevo un tensor a la gpu"
      ],
      "metadata": {
        "id": "Cnf7Uxyn88AY"
      }
    },
    {
      "cell_type": "code",
      "source": [
        "import numpy as np\n",
        "\n",
        "# 1. Define true parameters and number of data points\n",
        "true_b = 1\n",
        "true_w = 2\n",
        "N = 100\n",
        "\n",
        "# 2. Data Generation\n",
        "np.random.seed(42) # for reproducibility\n",
        "x = np.random.rand(N, 1)\n",
        "epsilon = (0.1 * np.random.randn(N, 1)) # Note: using 'epsilon' instead of 'épsilon' for standard variable naming\n",
        "y = true_b + true_w * x + epsilon\n",
        "\n",
        "# 3. Shuffle indices for splitting data\n",
        "idx = np.arange(N)\n",
        "np.random.shuffle(idx)\n",
        "\n",
        "# 4. Define split point and create train/validation indices\n",
        "split_ratio = 0.8\n",
        "train_idx = idx[:int(N * split_ratio)]\n",
        "val_idx = idx[int(N * split_ratio):]\n",
        "\n",
        "# 5. Generate train and validation sets\n",
        "x_train, y_train = x[train_idx], y[train_idx]\n",
        "x_val, y_val = x[val_idx], y[val_idx]"
      ],
      "metadata": {
        "id": "WkC6TUko9EST"
      },
      "execution_count": null,
      "outputs": []
    },
    {
      "cell_type": "code",
      "source": [
        "gpu_tensor = torch.as_tensor(x_train).to(device)\n",
        "gpu_tensor[0]"
      ],
      "metadata": {
        "colab": {
          "base_uri": "https://localhost:8080/"
        },
        "id": "jnwm9iTx8vSH",
        "outputId": "613b0cf7-2e1a-4704-f9cc-6112bbf708e9"
      },
      "execution_count": null,
      "outputs": [
        {
          "output_type": "execute_result",
          "data": {
            "text/plain": [
              "tensor([0.7713], device='cuda:0', dtype=torch.float64)"
            ]
          },
          "metadata": {},
          "execution_count": 9
        }
      ]
    },
    {
      "cell_type": "code",
      "source": [
        "device = 'cuda' if torch.cuda.is_available() else 'cpu'\n",
        "print(device)"
      ],
      "metadata": {
        "colab": {
          "base_uri": "https://localhost:8080/"
        },
        "id": "EBVyRUrm9Q6t",
        "outputId": "41083bbb-69b8-4041-b06d-beb3f9c9fb2b"
      },
      "execution_count": null,
      "outputs": [
        {
          "output_type": "stream",
          "name": "stdout",
          "text": [
            "cuda\n"
          ]
        }
      ]
    },
    {
      "cell_type": "code",
      "source": [
        "x_train_tensor = torch.as_tensor(x_train).float().to(device)\n",
        "y_train_tensor = torch.as_tensor(y_train).float().to(device)"
      ],
      "metadata": {
        "id": "NUDgZ81Y9Ta4"
      },
      "execution_count": null,
      "outputs": []
    },
    {
      "cell_type": "code",
      "source": [
        "print(type(x_train), type(x_train_tensor), x_train_tensor.type())"
      ],
      "metadata": {
        "colab": {
          "base_uri": "https://localhost:8080/"
        },
        "id": "PFKP0iWp9XYj",
        "outputId": "5e552bee-e9ae-4b52-f7b9-4f8ddaf03935"
      },
      "execution_count": null,
      "outputs": [
        {
          "output_type": "stream",
          "name": "stdout",
          "text": [
            "<class 'numpy.ndarray'> <class 'torch.Tensor'> torch.cuda.FloatTensor\n"
          ]
        }
      ]
    },
    {
      "cell_type": "markdown",
      "source": [
        "COnvertirlo de vuelto a numpy"
      ],
      "metadata": {
        "id": "E5c6eDga9o71"
      }
    },
    {
      "cell_type": "code",
      "source": [
        "back_to_numpy = x_train_tensor.numpy()"
      ],
      "metadata": {
        "colab": {
          "base_uri": "https://localhost:8080/",
          "height": 141
        },
        "id": "GsDk7Em09qY5",
        "outputId": "e87e18cd-c5c1-4776-d74c-e244a19b3fa0"
      },
      "execution_count": null,
      "outputs": [
        {
          "output_type": "error",
          "ename": "TypeError",
          "evalue": "can't convert cuda:0 device type tensor to numpy. Use Tensor.cpu() to copy the tensor to host memory first.",
          "traceback": [
            "\u001b[0;31m---------------------------------------------------------------------------\u001b[0m",
            "\u001b[0;31mTypeError\u001b[0m                                 Traceback (most recent call last)",
            "\u001b[0;32m<ipython-input-14-bbb26eb4f53c>\u001b[0m in \u001b[0;36m<cell line: 0>\u001b[0;34m()\u001b[0m\n\u001b[0;32m----> 1\u001b[0;31m \u001b[0mback_to_numpy\u001b[0m \u001b[0;34m=\u001b[0m \u001b[0mx_train_tensor\u001b[0m\u001b[0;34m.\u001b[0m\u001b[0mnumpy\u001b[0m\u001b[0;34m(\u001b[0m\u001b[0;34m)\u001b[0m\u001b[0;34m\u001b[0m\u001b[0;34m\u001b[0m\u001b[0m\n\u001b[0m",
            "\u001b[0;31mTypeError\u001b[0m: can't convert cuda:0 device type tensor to numpy. Use Tensor.cpu() to copy the tensor to host memory first."
          ]
        }
      ]
    },
    {
      "cell_type": "markdown",
      "source": [
        "Primero retornerlo a CPU"
      ],
      "metadata": {
        "id": "qDgWD_AO9tEq"
      }
    },
    {
      "cell_type": "code",
      "source": [
        "back_to_numpy = x_train_tensor.cpu().numpy()"
      ],
      "metadata": {
        "id": "2E-5yfVN9rfm"
      },
      "execution_count": null,
      "outputs": []
    }
  ]
}